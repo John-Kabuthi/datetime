{
  "nbformat": 4,
  "nbformat_minor": 0,
  "metadata": {
    "colab": {
      "provenance": [],
      "toc_visible": true,
      "authorship_tag": "ABX9TyO5RjNViYzsLe2fYbvqflqY",
      "include_colab_link": true
    },
    "kernelspec": {
      "name": "python3",
      "display_name": "Python 3"
    },
    "language_info": {
      "name": "python"
    }
  },
  "cells": [
    {
      "cell_type": "markdown",
      "metadata": {
        "id": "view-in-github",
        "colab_type": "text"
      },
      "source": [
        "<a href=\"https://colab.research.google.com/github/John-Kabuthi/datetime/blob/master/Assignment.ipynb\" target=\"_parent\"><img src=\"https://colab.research.google.com/assets/colab-badge.svg\" alt=\"Open In Colab\"/></a>"
      ]
    },
    {
      "cell_type": "markdown",
      "source": [
        "**QUESTION 1:**"
      ],
      "metadata": {
        "id": "x3ZwPhE6ZkvC"
      }
    },
    {
      "cell_type": "code",
      "source": [
        "import numpy as np\n",
        "#coefficients of the equations:\n",
        "coefficients=np.array([[1, 2, -1, -2],\n",
        "                        [2, 7, -8, -16],\n",
        "                        [0, -2, 2, 2]])\n",
        "#using Gauss-Jordan Elimination\n",
        "n =len(coefficients)\n",
        "for i in range(n):\n",
        "  if coefficients[i, i] == 0:\n",
        "    print(\"Has no unique solution!\")\n",
        "    break\n",
        "  coefficients[i]=coefficients[i]/coefficients[i,i]\n",
        "  for j in range(n):\n",
        "    if i !=j:\n",
        "      coefficients[j] = coefficients[j] - coefficients[j, i] * coefficients[i]\n",
        "solution=coefficients[:, -1]\n",
        "#Solution\n",
        "print(\"The solution is: \",solution)"
      ],
      "metadata": {
        "colab": {
          "base_uri": "https://localhost:8080/"
        },
        "id": "xU0Kbidres87",
        "outputId": "94f51f56-5d9a-4752-af5d-615a7ab5ecdc"
      },
      "execution_count": 11,
      "outputs": [
        {
          "output_type": "stream",
          "name": "stdout",
          "text": [
            "The solution is:  [-3  2  3]\n"
          ]
        }
      ]
    },
    {
      "cell_type": "markdown",
      "source": [
        "**QUESTION 2:**"
      ],
      "metadata": {
        "id": "Y7eNY-3wgXaZ"
      }
    },
    {
      "cell_type": "code",
      "source": [
        "# Lab group problem\n",
        "import numpy as np\n",
        "# Coefficients of the equations\n",
        "coefficients = np.array([\n",
        " [2, 3, 1, 312.1],\n",
        " [1, 2, 1, 216.7],\n",
        " [1, 1, 2, 264]\n",
        "])\n",
        "# Solving for molar masses\n",
        "molar_masses = np.linalg.solve(coefficients[:, :-1], coefficients[:, -\n",
        "1])\n",
        "print(\"The molar mass of salt A is:\", molar_masses[0], \"g/mol\")\n",
        "print(\"The molar mass of salt B is:\", molar_masses[1], \"g/mol\")\n",
        "print(\"The molar mass of salt C is:\", molar_masses[2], \"g/mol\")\n"
      ],
      "metadata": {
        "colab": {
          "base_uri": "https://localhost:8080/"
        },
        "id": "4sWoL-cOgnhw",
        "outputId": "42ef0228-9a17-40e1-97e9-0148405158c7"
      },
      "execution_count": 12,
      "outputs": [
        {
          "output_type": "stream",
          "name": "stdout",
          "text": [
            "The molar mass of salt A is: 58.40000000000006 g/mol\n",
            "The molar mass of salt B is: 36.99999999999997 g/mol\n",
            "The molar mass of salt C is: 84.29999999999998 g/mol\n"
          ]
        }
      ]
    },
    {
      "cell_type": "markdown",
      "source": [
        "**QUESTION 3:**"
      ],
      "metadata": {
        "id": "e4MDWAV1gxNp"
      }
    },
    {
      "cell_type": "code",
      "source": [
        "# Chemistry student problem\n",
        "import numpy as np\n",
        "# Coefficients of the equations\n",
        "coefficients = np.array([\n",
        " [0.10, 0.20, 0.40, 0.26],\n",
        " [1, 1, 1, 100],\n",
        " [-0.25, 0.20, 0.40, 0.28]\n",
        "])\n",
        "# Solving for the volumes\n",
        "volumes = np.linalg.solve(coefficients[:, :3], coefficients[:, -1])\n",
        "\n",
        "print(\"The student used\", volumes[0], \"ml of the 10% solution,\")\n",
        "print(\"The student used\", volumes[1], \"ml of the 25% solution, and\")\n",
        "print(\"The student used\", volumes[2], \"ml of the 40% solution.\")"
      ],
      "metadata": {
        "colab": {
          "base_uri": "https://localhost:8080/"
        },
        "id": "hMbOoIgxg5fO",
        "outputId": "7999f2e9-7e9d-43d7-a45c-60833dfd986a"
      },
      "execution_count": 13,
      "outputs": [
        {
          "output_type": "stream",
          "name": "stdout",
          "text": [
            "The student used -0.057142857142878256 ml of the 10% solution,\n",
            "The student used 198.7857142857143 ml of the 25% solution, and\n",
            "The student used -98.72857142857143 ml of the 40% solution.\n"
          ]
        }
      ]
    }
  ]
}